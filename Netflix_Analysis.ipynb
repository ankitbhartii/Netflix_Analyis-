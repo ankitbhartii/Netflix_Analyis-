{
 "cells": [
  {
   "cell_type": "markdown",
   "id": "522c7ba4",
   "metadata": {},
   "source": [
    "# 📊 Netflix Data Analysis & Forecasting\n",
    "\n",
    "This notebook explores Netflix's content trends, genre popularity, and forecasts future trends using time-series analysis."
   ]
  },
  {
   "cell_type": "code",
   "execution_count": null,
   "id": "0beabc89",
   "metadata": {},
   "outputs": [],
   "source": [
    "\n",
    "import pandas as pd\n",
    "import numpy as np\n",
    "import matplotlib.pyplot as plt\n",
    "import seaborn as sns\n",
    "from wordcloud import WordCloud\n",
    "from statsmodels.tsa.arima.model import ARIMA\n",
    "import networkx as nx\n",
    "\n",
    "# Load dataset\n",
    "df = pd.read_csv(\"netflix_titles.csv\")\n",
    "\n",
    "# Display first few rows\n",
    "df.head()\n"
   ]
  },
  {
   "cell_type": "markdown",
   "id": "e707408e",
   "metadata": {},
   "source": [
    "## 1️⃣ Data Cleaning\n",
    "\n",
    "- Checking for missing values\n",
    "- Handling null values\n",
    "- Converting date columns"
   ]
  },
  {
   "cell_type": "code",
   "execution_count": null,
   "id": "2ffe527f",
   "metadata": {},
   "outputs": [],
   "source": [
    "\n",
    "# Checking for missing values\n",
    "df.isnull().sum()\n",
    "\n",
    "# Filling missing values\n",
    "df['country'].fillna(\"Unknown\", inplace=True)\n",
    "df['director'].fillna(\"Unknown\", inplace=True)\n",
    "df['cast'].fillna(\"Unknown\", inplace=True)\n",
    "df['release_year'] = pd.to_numeric(df['release_year'], errors='coerce')\n",
    "\n",
    "# Convert date_added to datetime format\n",
    "df['date_added'] = pd.to_datetime(df['date_added'])\n"
   ]
  },
  {
   "cell_type": "markdown",
   "id": "776663e8",
   "metadata": {},
   "source": [
    "## 2️⃣ TV Shows vs. Movies per Country"
   ]
  },
  {
   "cell_type": "code",
   "execution_count": null,
   "id": "8b16db4d",
   "metadata": {},
   "outputs": [],
   "source": [
    "\n",
    "plt.figure(figsize=(12, 6))\n",
    "sns.countplot(data=df, x=\"type\", order=df[\"type\"].value_counts().index, palette=\"coolwarm\")\n",
    "plt.title(\"Distribution of TV Shows vs. Movies\")\n",
    "plt.show()\n"
   ]
  },
  {
   "cell_type": "markdown",
   "id": "f5f0c043",
   "metadata": {},
   "source": [
    "## 3️⃣ Growth of Netflix Content Over Time"
   ]
  },
  {
   "cell_type": "code",
   "execution_count": null,
   "id": "5fef578b",
   "metadata": {},
   "outputs": [],
   "source": [
    "\n",
    "content_growth = df.groupby(\"release_year\").size()\n",
    "plt.figure(figsize=(12, 6))\n",
    "plt.plot(content_growth.index, content_growth.values, marker=\"o\", color=\"royalblue\")\n",
    "plt.title(\"Growth of Netflix Content Over Years\")\n",
    "plt.xlabel(\"Year\")\n",
    "plt.ylabel(\"Number of Titles\")\n",
    "plt.grid(True)\n",
    "plt.show()\n"
   ]
  },
  {
   "cell_type": "markdown",
   "id": "e7c5a0a8",
   "metadata": {},
   "source": [
    "## 4️⃣ Global Genre Distribution"
   ]
  },
  {
   "cell_type": "code",
   "execution_count": null,
   "id": "257d5cc7",
   "metadata": {},
   "outputs": [],
   "source": [
    "\n",
    "genres = df['listed_in'].str.split(', ').explode().value_counts()\n",
    "\n",
    "plt.figure(figsize=(12, 6))\n",
    "genres.head(10).plot(kind=\"bar\", color=\"royalblue\")\n",
    "plt.title(\"Top 10 Most Popular Genres\")\n",
    "plt.xlabel(\"Genre\")\n",
    "plt.ylabel(\"Number of Titles\")\n",
    "plt.xticks(rotation=45)\n",
    "plt.show()\n"
   ]
  },
  {
   "cell_type": "markdown",
   "id": "500c1dec",
   "metadata": {},
   "source": [
    "## 5️⃣ Director & Actor Network Analysis"
   ]
  },
  {
   "cell_type": "code",
   "execution_count": null,
   "id": "2721af41",
   "metadata": {},
   "outputs": [],
   "source": [
    "\n",
    "G = nx.Graph()\n",
    "for _, row in df.iterrows():\n",
    "    director = row[\"director\"]\n",
    "    actors = row[\"cast\"].split(\", \") if row[\"cast\"] != \"Unknown\" else []\n",
    "    for actor in actors:\n",
    "        G.add_edge(director, actor)\n",
    "\n",
    "plt.figure(figsize=(12, 6))\n",
    "nx.draw(G, node_size=20, edge_color=\"gray\", alpha=0.5)\n",
    "plt.title(\"Director-Actor Network Graph\")\n",
    "plt.show()\n"
   ]
  },
  {
   "cell_type": "markdown",
   "id": "b01927c1",
   "metadata": {},
   "source": [
    "## 6️⃣ Forecasting Netflix Content Growth"
   ]
  },
  {
   "cell_type": "code",
   "execution_count": null,
   "id": "6ee58476",
   "metadata": {},
   "outputs": [],
   "source": [
    "\n",
    "model = ARIMA(content_growth, order=(5,1,0))\n",
    "model_fit = model.fit()\n",
    "forecast_years = range(content_growth.index[-1] + 1, content_growth.index[-1] + 6)\n",
    "forecast_values = model_fit.forecast(steps=5)\n",
    "\n",
    "plt.figure(figsize=(12, 6))\n",
    "plt.plot(content_growth.index, content_growth.values, marker=\"o\", label=\"Actual Data\", color=\"royalblue\")\n",
    "plt.plot(forecast_years, forecast_values, marker=\"o\", linestyle=\"dashed\", label=\"Forecast\", color=\"red\")\n",
    "plt.title(\"Predicted Growth of Netflix Content (Next 5 Years)\")\n",
    "plt.legend()\n",
    "plt.show()\n"
   ]
  },
  {
   "cell_type": "markdown",
   "id": "533010b8",
   "metadata": {},
   "source": [
    "## 7️⃣ Forecasting Genre Trends"
   ]
  },
  {
   "cell_type": "code",
   "execution_count": null,
   "id": "b48d238b",
   "metadata": {},
   "outputs": [],
   "source": [
    "\n",
    "genre_trends = df[['release_year', 'listed_in']].dropna().explode('listed_in').groupby(['release_year', 'listed_in']).size().unstack().fillna(0)\n",
    "top_genres = genre_trends.sum().nlargest(5).index\n",
    "genre_trends_top = genre_trends[top_genres]\n",
    "\n",
    "plt.figure(figsize=(12, 6))\n",
    "for genre in top_genres:\n",
    "    model = ARIMA(genre_trends_top[genre], order=(5,1,0))\n",
    "    model_fit = model.fit()\n",
    "    forecast_values = model_fit.forecast(steps=5)\n",
    "    forecast_years = range(genre_trends_top.index[-1] + 1, genre_trends_top.index[-1] + 6)\n",
    "    plt.plot(genre_trends_top.index, genre_trends_top[genre], linestyle=\"-\", label=f\"Actual {genre}\")\n",
    "    plt.plot(forecast_years, forecast_values, linestyle=\"dashed\", label=f\"Forecast {genre}\")\n",
    "\n",
    "plt.title(\"Predicted Genre Popularity Trends (Next 5 Years)\")\n",
    "plt.legend()\n",
    "plt.show()\n"
   ]
  },
  {
   "cell_type": "markdown",
   "id": "e517f02d",
   "metadata": {},
   "source": [
    "## 📌 Conclusion\n",
    "- Netflix has seen **massive content growth after 2015**.\n",
    "- **Movies dominate in some countries**, while TV Shows are rising.\n",
    "- **Drama & Documentaries remain popular**, with future shifts in genre demand.\n",
    "- Predictions indicate **steady content expansion**, with some genre shifts.\n"
   ]
  }
 ],
 "metadata": {},
 "nbformat": 4,
 "nbformat_minor": 5
}